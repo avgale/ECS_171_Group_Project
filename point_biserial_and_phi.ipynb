{
 "cells": [
  {
   "cell_type": "code",
   "execution_count": 1,
   "id": "c20113d7-f6c1-4bbe-b47f-76507530047b",
   "metadata": {},
   "outputs": [
    {
     "name": "stdout",
     "output_type": "stream",
     "text": [
      "LVEF\n",
      "Point Biserial Correlation: 0.00374581054514388\n",
      "P-value: 0.9257785348431574\n",
      "\n",
      "Moderate to severe chronic kidney disease\n",
      "Point Biserial Correlation: 0.08265466522104156\n",
      "P-value: 0.039482921333748755\n",
      "\n",
      "Creatinine\n",
      "Point Biserial Correlation: 0.16259463380840183\n",
      "P-value: 4.685337762255974e-05\n",
      "\n",
      "Sodium\n",
      "Point Biserial Correlation: -0.061249781594191394\n",
      "P-value: 0.12733562556840616\n"
     ]
    }
   ],
   "source": [
    "import pandas as pd\n",
    "from scipy.stats import pointbiserialr\n",
    "\n",
    "df = pd.read_csv(\"filtered_data.csv\")\n",
    "\n",
    "death = df[\"death\"]\n",
    "# Acute renal failure is 0 for all patients in the filtered dataset\n",
    "#arf = df[\"acute.renal.failure\"]\n",
    "lvef = df[\"LVEF\"]\n",
    "mts_kidney_disease = df[\"moderate.to.severe.chronic.kidney.disease\"]\n",
    "creatinine = df[\"creatinine.enzymatic.method\"]\n",
    "sodium = df[\"sodium\"]\n",
    "\n",
    "r_lvef, p_lvef = pointbiserialr(death, lvef)\n",
    "r_mts_kidney_disease, p_mts_kidney_disease = pointbiserialr(death, mts_kidney_disease)\n",
    "r_creatinine, p_creatinine = pointbiserialr(death, creatinine)\n",
    "r_sodium, p_sodium = pointbiserialr(death, sodium)\n",
    "\n",
    "print(\"LVEF\")\n",
    "print(f\"Point Biserial Correlation: {r_lvef}\")\n",
    "print(f\"P-value: {p_lvef}\\n\")\n",
    "\n",
    "print(\"Moderate to severe chronic kidney disease\")\n",
    "print(f\"Point Biserial Correlation: {r_mts_kidney_disease}\")\n",
    "print(f\"P-value: {p_mts_kidney_disease}\\n\")\n",
    "\n",
    "print(\"Creatinine\")\n",
    "print(f\"Point Biserial Correlation: {r_creatinine}\")\n",
    "print(f\"P-value: {p_creatinine}\\n\")\n",
    "\n",
    "print(\"Sodium\")\n",
    "print(f\"Point Biserial Correlation: {r_sodium}\")\n",
    "print(f\"P-value: {p_sodium}\")\n"
   ]
  },
  {
   "cell_type": "code",
   "execution_count": 2,
   "id": "e4ac99ce-5dc6-4747-8968-a87ff022a5b5",
   "metadata": {},
   "outputs": [
    {
     "name": "stdout",
     "output_type": "stream",
     "text": [
      "Moderate to severe chronic kidney disease\n",
      "Phi Correlation: 0.08265466522104156\n",
      "P-value: 0.039482921333748755\n",
      "\n"
     ]
    }
   ],
   "source": [
    "import pandas as pd\n",
    "from scipy.stats import pearsonr\n",
    "\n",
    "df = pd.read_csv(\"filtered_data.csv\")\n",
    "\n",
    "death = df[\"death\"]\n",
    "mts_kidney_disease = df[\"moderate.to.severe.chronic.kidney.disease\"]\n",
    "\n",
    "phi_mts_kidney_disease, p_phi_mts = pearsonr(death, mts_kidney_disease)\n",
    "\n",
    "print(\"Moderate to severe chronic kidney disease\")\n",
    "print(f\"Phi Correlation: {phi_mts_kidney_disease}\")\n",
    "print(f\"P-value: {p_phi_mts}\\n\")"
   ]
  }
 ],
 "metadata": {
  "kernelspec": {
   "display_name": "myenv",
   "language": "python",
   "name": "python3"
  },
  "language_info": {
   "codemirror_mode": {
    "name": "ipython",
    "version": 3
   },
   "file_extension": ".py",
   "mimetype": "text/x-python",
   "name": "python",
   "nbconvert_exporter": "python",
   "pygments_lexer": "ipython3",
   "version": "3.11.8"
  }
 },
 "nbformat": 4,
 "nbformat_minor": 5
}
